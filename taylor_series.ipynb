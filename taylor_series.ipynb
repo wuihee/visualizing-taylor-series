{
 "cells": [
  {
   "cell_type": "markdown",
   "metadata": {},
   "source": [
    "# Visualizing Taylor Series\n"
   ]
  },
  {
   "cell_type": "code",
   "execution_count": 16,
   "metadata": {},
   "outputs": [],
   "source": [
    "import math\n",
    "\n",
    "import numpy as np\n",
    "import matplotlib.pyplot as plt\n",
    "import ipywidgets as widgets"
   ]
  },
  {
   "cell_type": "markdown",
   "metadata": {},
   "source": [
    "## Implementing Taylor Series Approximations\n",
    "\n",
    "$e^x = \\sum_{n = 0}^{\\infty} \\frac{x^n}{!n}$\n",
    "\n",
    "$\\sin (x) = \\sum_{n = 0}^{\\infty} (-1)^n \\frac{x^{2n + 1}}{(2n + 1)!}$\n",
    "\n",
    "$\\cos (x) = \\sum_{n = 0}^{\\infty} (-1)^n \\frac{x^{2n}}{(2n)!}$\n"
   ]
  },
  {
   "cell_type": "code",
   "execution_count": 2,
   "metadata": {},
   "outputs": [],
   "source": [
    "def taylor_exp(x, n_terms):\n",
    "    result = 0\n",
    "    for n in range(n_terms):\n",
    "        result += (x**n) / math.factorial(n)\n",
    "    return result\n",
    "\n",
    "\n",
    "def taylor_sin(x, n_terms):\n",
    "    result = 0\n",
    "    for n in range(n_terms):\n",
    "        result += ((-1) ** n) * ((x ** (2 * n + 1)) / math.factorial(2 * n + 1))\n",
    "    return result\n",
    "\n",
    "\n",
    "def taylor_cos(x, n_terms):\n",
    "    result = 0\n",
    "    for n in range(n_terms):\n",
    "        result += ((-1) ** n) * ((x ** (2 * n)) / math.factorial(2 * n))\n",
    "    return result"
   ]
  },
  {
   "cell_type": "markdown",
   "metadata": {},
   "source": [
    "## Visualizing Taylor Series"
   ]
  },
  {
   "cell_type": "code",
   "execution_count": 17,
   "metadata": {},
   "outputs": [],
   "source": [
    "def plot_taylor_series(x, n_terms):\n",
    "    x_values = np.linspace(-2 * np.pi, 2 * np.pi, 75)\n",
    "    actual_sin = np.sin(x_values)\n",
    "    approx_sin = [taylor_sin(x, n_terms) for x in x_values]\n",
    "    plt.figure(figsize=(14, 7))\n",
    "    plt.plot(x_values, actual_sin, label=\"Actual $sin(x)$\")\n",
    "    plt.plot(x_values, approx_sin, label=\"Tayler $sin(x)\")\n",
    "    plt.legend()\n",
    "    plt.title(\"Taylor Series Approx. of $sin(x)$\")"
   ]
  },
  {
   "cell_type": "code",
   "execution_count": 18,
   "metadata": {},
   "outputs": [
    {
     "data": {
      "application/vnd.jupyter.widget-view+json": {
       "model_id": "0d9e950090084768aac151c2ce87d8c1",
       "version_major": 2,
       "version_minor": 0
      },
      "text/plain": [
       "interactive(children=(IntSlider(value=10, description='n_terms', max=20, min=1), Output()), _dom_classes=('wid…"
      ]
     },
     "metadata": {},
     "output_type": "display_data"
    }
   ],
   "source": [
    "@widgets.interact(n_terms=widgets.IntSlider(min=1, max=20, step=1, value=10))\n",
    "def interactive_plot(n_terms):\n",
    "    plot_taylor_series(np.pi, n_terms)"
   ]
  }
 ],
 "metadata": {
  "kernelspec": {
   "display_name": ".venv",
   "language": "python",
   "name": "python3"
  },
  "language_info": {
   "codemirror_mode": {
    "name": "ipython",
    "version": 3
   },
   "file_extension": ".py",
   "mimetype": "text/x-python",
   "name": "python",
   "nbconvert_exporter": "python",
   "pygments_lexer": "ipython3",
   "version": "3.11.2"
  }
 },
 "nbformat": 4,
 "nbformat_minor": 2
}
