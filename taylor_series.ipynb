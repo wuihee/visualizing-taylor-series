{
 "cells": [
  {
   "cell_type": "markdown",
   "metadata": {},
   "source": [
    "# Visualizing Taylor Series\n"
   ]
  },
  {
   "cell_type": "code",
   "execution_count": 1,
   "metadata": {},
   "outputs": [],
   "source": [
    "import math\n",
    "\n",
    "import numpy as np\n",
    "import matplotlib.pyplot as plt\n",
    "import ipywidgets as widgets"
   ]
  },
  {
   "cell_type": "markdown",
   "metadata": {},
   "source": [
    "## Implementing Taylor Series Approximations\n",
    "\n",
    "$e^x = \\sum_{n = 0}^{\\infty} \\frac{x^n}{!n}$\n",
    "\n",
    "$\\sin (x) = \\sum_{n = 0}^{\\infty} (-1)^n \\frac{x^{2n + 1}}{(2n + 1)!}$\n",
    "\n",
    "$\\cos (x) = \\sum_{n = 0}^{\\infty} (-1)^n \\frac{x^{2n}}{(2n)!}$\n"
   ]
  },
  {
   "cell_type": "code",
   "execution_count": 2,
   "metadata": {},
   "outputs": [],
   "source": [
    "def taylor_exp(x, n_terms):\n",
    "    result = 0\n",
    "    for n in range(n_terms):\n",
    "        result += (x**n) / math.factorial(n)\n",
    "    return result\n",
    "\n",
    "\n",
    "def taylor_sin(x, n_terms):\n",
    "    result = 0\n",
    "    for n in range(n_terms):\n",
    "        result += ((-1) ** n) * ((x ** (2 * n + 1)) / math.factorial(2 * n + 1))\n",
    "    return result\n",
    "\n",
    "\n",
    "def taylor_cos(x, n_terms):\n",
    "    result = 0\n",
    "    for n in range(n_terms):\n",
    "        result += ((-1) ** n) * ((x ** (2 * n)) / math.factorial(2 * n))\n",
    "    return result"
   ]
  },
  {
   "cell_type": "markdown",
   "metadata": {},
   "source": [
    "## Plotting Actual vs Approximations"
   ]
  },
  {
   "cell_type": "code",
   "execution_count": 3,
   "metadata": {},
   "outputs": [],
   "source": [
    "def plot_taylor_series(n_terms):\n",
    "    x_values = np.linspace(-2 * np.pi, 2 * np.pi, 75)\n",
    "    actual_sin = np.sin(x_values)\n",
    "    approx_sin = [taylor_sin(x, n_terms) for x in x_values]\n",
    "    plt.figure(figsize=(14, 7))\n",
    "    plt.plot(x_values, actual_sin, label=\"Actual $sin(x)$\")\n",
    "    plt.plot(x_values, approx_sin, label=\"Taylor $sin(x)$\")\n",
    "    plt.xlim(-2 * np.pi, 2 * np.pi)\n",
    "    plt.ylim(-5, 5)\n",
    "    plt.legend()\n",
    "    plt.title(\"Taylor Series Approximation of $sin(x)$\")"
   ]
  },
  {
   "cell_type": "code",
   "execution_count": 4,
   "metadata": {},
   "outputs": [
    {
     "data": {
      "application/vnd.jupyter.widget-view+json": {
       "model_id": "f6d72704172a43598ec6c0107c2b9a23",
       "version_major": 2,
       "version_minor": 0
      },
      "text/plain": [
       "interactive(children=(IntSlider(value=1, description='n_terms', max=10, min=1), Output()), _dom_classes=('widg…"
      ]
     },
     "metadata": {},
     "output_type": "display_data"
    }
   ],
   "source": [
    "@widgets.interact(n_terms=widgets.IntSlider(min=1, max=10, step=1, value=1))\n",
    "def interactive_plot(n_terms):\n",
    "    plot_taylor_series(n_terms)"
   ]
  }
 ],
 "metadata": {
  "kernelspec": {
   "display_name": ".venv",
   "language": "python",
   "name": "python3"
  },
  "language_info": {
   "codemirror_mode": {
    "name": "ipython",
    "version": 3
   },
   "file_extension": ".py",
   "mimetype": "text/x-python",
   "name": "python",
   "nbconvert_exporter": "python",
   "pygments_lexer": "ipython3",
   "version": "3.11.2"
  }
 },
 "nbformat": 4,
 "nbformat_minor": 2
}
